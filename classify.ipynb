{
 "cells": [
  {
   "cell_type": "code",
   "execution_count": 127,
   "metadata": {
    "collapsed": false,
    "deletable": true,
    "editable": true
   },
   "outputs": [],
   "source": [
    "import os\n",
    "from pathlib import Path\n",
    "import pandas as pd\n",
    "df = pd.read_csv(\"dataset.csv\", low_memory=False)"
   ]
  },
  {
   "cell_type": "code",
   "execution_count": 128,
   "metadata": {
    "collapsed": false,
    "deletable": true,
    "editable": true
   },
   "outputs": [
    {
     "name": "stdout",
     "output_type": "stream",
     "text": [
      "(692703, 85)\n"
     ]
    }
   ],
   "source": [
    "print(df.shape)"
   ]
  },
  {
   "cell_type": "code",
   "execution_count": 129,
   "metadata": {
    "collapsed": false,
    "deletable": true,
    "editable": true
   },
   "outputs": [
    {
     "name": "stdout",
     "output_type": "stream",
     "text": [
      "                                  Flow ID      Source IP   Source Port  \\\n",
      "0  192.168.10.14-209.48.71.168-49459-80-6  192.168.10.14         49459   \n",
      "1  192.168.10.3-192.168.10.17-389-49453-6  192.168.10.17         49453   \n",
      "2   192.168.10.3-192.168.10.17-88-46124-6  192.168.10.17         46124   \n",
      "3  192.168.10.3-192.168.10.17-389-49454-6  192.168.10.17         49454   \n",
      "4   192.168.10.3-192.168.10.17-88-46126-6  192.168.10.17         46126   \n",
      "\n",
      "   Destination IP   Destination Port   Protocol      Timestamp  \\\n",
      "0   209.48.71.168                 80          6  5/7/2017 8:42   \n",
      "1    192.168.10.3                389          6  5/7/2017 8:42   \n",
      "2    192.168.10.3                 88          6  5/7/2017 8:42   \n",
      "3    192.168.10.3                389          6  5/7/2017 8:42   \n",
      "4    192.168.10.3                 88          6  5/7/2017 8:42   \n",
      "\n",
      "    Flow Duration   Total Fwd Packets   Total Backward Packets   ...    \\\n",
      "0           38308                   1                        1   ...     \n",
      "1             479                  11                        5   ...     \n",
      "2            1095                  10                        6   ...     \n",
      "3           15206                  17                       12   ...     \n",
      "4            1092                   9                        6   ...     \n",
      "\n",
      "    min_seg_size_forward  Active Mean   Active Std   Active Max   Active Min  \\\n",
      "0                     20          0.0          0.0          0.0          0.0   \n",
      "1                     32          0.0          0.0          0.0          0.0   \n",
      "2                     32          0.0          0.0          0.0          0.0   \n",
      "3                     32          0.0          0.0          0.0          0.0   \n",
      "4                     32          0.0          0.0          0.0          0.0   \n",
      "\n",
      "   Idle Mean   Idle Std   Idle Max   Idle Min   Label  \n",
      "0        0.0        0.0        0.0        0.0  BENIGN  \n",
      "1        0.0        0.0        0.0        0.0  BENIGN  \n",
      "2        0.0        0.0        0.0        0.0  BENIGN  \n",
      "3        0.0        0.0        0.0        0.0  BENIGN  \n",
      "4        0.0        0.0        0.0        0.0  BENIGN  \n",
      "\n",
      "[5 rows x 85 columns]\n"
     ]
    }
   ],
   "source": [
    "print(df.head(5))"
   ]
  },
  {
   "cell_type": "code",
   "execution_count": 130,
   "metadata": {
    "collapsed": false,
    "deletable": true,
    "editable": true
   },
   "outputs": [
    {
     "name": "stdout",
     "output_type": "stream",
     "text": [
      "['Flow ID', ' Source IP', ' Source Port', ' Destination IP', ' Destination Port', ' Protocol', ' Timestamp', ' Flow Duration', ' Total Fwd Packets', ' Total Backward Packets', 'Total Length of Fwd Packets', ' Total Length of Bwd Packets', ' Fwd Packet Length Max', ' Fwd Packet Length Min', ' Fwd Packet Length Mean', ' Fwd Packet Length Std', 'Bwd Packet Length Max', ' Bwd Packet Length Min', ' Bwd Packet Length Mean', ' Bwd Packet Length Std', 'Flow Bytes/s', ' Flow Packets/s', ' Flow IAT Mean', ' Flow IAT Std', ' Flow IAT Max', ' Flow IAT Min', 'Fwd IAT Total', ' Fwd IAT Mean', ' Fwd IAT Std', ' Fwd IAT Max', ' Fwd IAT Min', 'Bwd IAT Total', ' Bwd IAT Mean', ' Bwd IAT Std', ' Bwd IAT Max', ' Bwd IAT Min', 'Fwd PSH Flags', ' Bwd PSH Flags', ' Fwd URG Flags', ' Bwd URG Flags', ' Fwd Header Length', ' Bwd Header Length', 'Fwd Packets/s', ' Bwd Packets/s', ' Min Packet Length', ' Max Packet Length', ' Packet Length Mean', ' Packet Length Std', ' Packet Length Variance', 'FIN Flag Count', ' SYN Flag Count', ' RST Flag Count', ' PSH Flag Count', ' ACK Flag Count', ' URG Flag Count', ' CWE Flag Count', ' ECE Flag Count', ' Down/Up Ratio', ' Average Packet Size', ' Avg Fwd Segment Size', ' Avg Bwd Segment Size', ' Fwd Header Length.1', 'Fwd Avg Bytes/Bulk', ' Fwd Avg Packets/Bulk', ' Fwd Avg Bulk Rate', ' Bwd Avg Bytes/Bulk', ' Bwd Avg Packets/Bulk', 'Bwd Avg Bulk Rate', 'Subflow Fwd Packets', ' Subflow Fwd Bytes', ' Subflow Bwd Packets', ' Subflow Bwd Bytes', 'Init_Win_bytes_forward', ' Init_Win_bytes_backward', ' act_data_pkt_fwd', ' min_seg_size_forward', 'Active Mean', ' Active Std', ' Active Max', ' Active Min', 'Idle Mean', ' Idle Std', ' Idle Max', ' Idle Min', ' Label']\n"
     ]
    }
   ],
   "source": [
    "print(list(df.columns.values))"
   ]
  },
  {
   "cell_type": "code",
   "execution_count": 131,
   "metadata": {
    "collapsed": false
   },
   "outputs": [
    {
     "name": "stdout",
     "output_type": "stream",
     "text": [
      "Flow ID has 226768 unique values.\n",
      " Source IP has 7689 unique values.\n",
      " Destination IP has 9012 unique values.\n",
      " Timestamp has 509 unique values.\n",
      "Flow Bytes/s has 450842 unique values.\n",
      " Flow Packets/s has 387031 unique values.\n",
      " Label has 6 unique values.\n"
     ]
    }
   ],
   "source": [
    "for column_name in df.columns:\n",
    "    if df[column_name].dtypes=='object':\n",
    "        a=df[column_name].unique()\n",
    "        a= len(a)\n",
    "        print(column_name+\" has \"+str(a)+\" unique values.\")"
   ]
  },
  {
   "cell_type": "code",
   "execution_count": 132,
   "metadata": {
    "collapsed": false
   },
   "outputs": [
    {
     "name": "stdout",
     "output_type": "stream",
     "text": [
      "    Source Port   Destination Port   Protocol   Flow Duration  \\\n",
      "0         49459                 80          6           38308   \n",
      "1         49453                389          6             479   \n",
      "2         46124                 88          6            1095   \n",
      "3         49454                389          6           15206   \n",
      "4         46126                 88          6            1092   \n",
      "\n",
      "    Total Fwd Packets   Total Backward Packets  Total Length of Fwd Packets  \\\n",
      "0                   1                        1                            6   \n",
      "1                  11                        5                          172   \n",
      "2                  10                        6                         3150   \n",
      "3                  17                       12                         3452   \n",
      "4                   9                        6                         3150   \n",
      "\n",
      "    Total Length of Bwd Packets   Fwd Packet Length Max  \\\n",
      "0                           6.0                       6   \n",
      "1                         326.0                      79   \n",
      "2                        3150.0                    1575   \n",
      "3                        6660.0                    1313   \n",
      "4                        3152.0                    1575   \n",
      "\n",
      "    Fwd Packet Length Min    ...       act_data_pkt_fwd  \\\n",
      "0                       6    ...                      0   \n",
      "1                       0    ...                      4   \n",
      "2                       0    ...                      3   \n",
      "3                       0    ...                     10   \n",
      "4                       0    ...                      2   \n",
      "\n",
      "    min_seg_size_forward  Active Mean   Active Std   Active Max   Active Min  \\\n",
      "0                     20          0.0          0.0          0.0          0.0   \n",
      "1                     32          0.0          0.0          0.0          0.0   \n",
      "2                     32          0.0          0.0          0.0          0.0   \n",
      "3                     32          0.0          0.0          0.0          0.0   \n",
      "4                     32          0.0          0.0          0.0          0.0   \n",
      "\n",
      "   Idle Mean   Idle Std   Idle Max   Idle Min  \n",
      "0        0.0        0.0        0.0        0.0  \n",
      "1        0.0        0.0        0.0        0.0  \n",
      "2        0.0        0.0        0.0        0.0  \n",
      "3        0.0        0.0        0.0        0.0  \n",
      "4        0.0        0.0        0.0        0.0  \n",
      "\n",
      "[5 rows x 78 columns]\n",
      "0    BENIGN\n",
      "1    BENIGN\n",
      "2    BENIGN\n",
      "3    BENIGN\n",
      "4    BENIGN\n",
      "Name:  Label, dtype: object\n"
     ]
    }
   ],
   "source": [
    "y = df[\" Label\"]\n",
    "X = df.drop([\"Flow ID\",\" Label\", \" Source IP\",\" Destination IP\", \" Timestamp\", \"Flow Bytes/s\",\" Flow Packets/s\" ],1)\n",
    "\n",
    "print(X.head(5))\n",
    "print(y.head(5))\n"
   ]
  },
  {
   "cell_type": "code",
   "execution_count": 133,
   "metadata": {
    "collapsed": false
   },
   "outputs": [],
   "source": [
    "#Encode target values and convert to one hot encoding.\n",
    "import numpy as np\n",
    "from keras.utils import np_utils\n",
    "from sklearn.preprocessing import LabelEncoder\n",
    "\n",
    "encoder = LabelEncoder()\n",
    "encoder.fit(y)\n",
    "encoded_y = encoder.transform(y)\n",
    "dummy_y = np_utils.to_categorical(encoded_y)"
   ]
  },
  {
   "cell_type": "code",
   "execution_count": 134,
   "metadata": {
    "collapsed": true
   },
   "outputs": [],
   "source": [
    "from sklearn.model_selection import train_test_split\n",
    "X_train, X_test, y_train, y_test = train_test_split(X,y,test_size=0.25, random_state=1)"
   ]
  },
  {
   "cell_type": "code",
   "execution_count": 135,
   "metadata": {
    "collapsed": false
   },
   "outputs": [
    {
     "name": "stdout",
     "output_type": "stream",
     "text": [
      "(519527,)\n",
      "(519527, 78)\n",
      "(173176,)\n",
      "(173176, 78)\n"
     ]
    }
   ],
   "source": [
    "print(y_train.shape)\n",
    "print(X_train.shape)\n",
    "print(y_test.shape)\n",
    "print(X_test.shape)"
   ]
  },
  {
   "cell_type": "code",
   "execution_count": 136,
   "metadata": {
    "collapsed": false
   },
   "outputs": [
    {
     "name": "stdout",
     "output_type": "stream",
     "text": [
      "         Source Port   Destination Port   Protocol   Flow Duration  \\\n",
      "451289         56043                443          6          181103   \n",
      "107684         50328                 80          6            2368   \n",
      "62920          16182                443          6       116324083   \n",
      "382089         51866                 53         17           80427   \n",
      "192370         52072                 80          6        85638973   \n",
      "\n",
      "         Total Fwd Packets   Total Backward Packets  \\\n",
      "451289                   7                        5   \n",
      "107684                   3                        4   \n",
      "62920                  141                      193   \n",
      "382089                   4                        2   \n",
      "192370                   8                        5   \n",
      "\n",
      "        Total Length of Fwd Packets   Total Length of Bwd Packets  \\\n",
      "451289                          376                        3508.0   \n",
      "107684                          311                       11595.0   \n",
      "62920                          3134                      370452.0   \n",
      "382089                          152                         172.0   \n",
      "192370                          368                       11595.0   \n",
      "\n",
      "         Fwd Packet Length Max   Fwd Packet Length Min     ...      \\\n",
      "451289                     201                       0     ...       \n",
      "107684                     311                       0     ...       \n",
      "62920                     1005                       0     ...       \n",
      "382089                      38                      38     ...       \n",
      "192370                     362                       0     ...       \n",
      "\n",
      "         act_data_pkt_fwd   min_seg_size_forward  Active Mean   Active Std  \\\n",
      "451289                  6                     20          0.0        0.000   \n",
      "107684                  1                     32          0.0        0.000   \n",
      "62920                 140                     20      85413.5   215406.656   \n",
      "382089                  3                     20          0.0        0.000   \n",
      "192370                  2                     20       1983.0        0.000   \n",
      "\n",
      "         Active Max   Active Min    Idle Mean     Idle Std    Idle Max  \\\n",
      "451289          0.0          0.0         0.00        0.000         0.0   \n",
      "107684          0.0          0.0         0.00        0.000         0.0   \n",
      "62920      769421.0      23014.0   9608259.75  1280545.771  10000000.0   \n",
      "382089          0.0          0.0         0.00        0.000         0.0   \n",
      "192370       1983.0       1983.0  85500000.00        0.000  85500000.0   \n",
      "\n",
      "          Idle Min  \n",
      "451289         0.0  \n",
      "107684         0.0  \n",
      "62920    5548912.0  \n",
      "382089         0.0  \n",
      "192370  85500000.0  \n",
      "\n",
      "[5 rows x 78 columns]\n"
     ]
    }
   ],
   "source": [
    "print(X_train.head(5))"
   ]
  },
  {
   "cell_type": "code",
   "execution_count": 137,
   "metadata": {
    "collapsed": false
   },
   "outputs": [
    {
     "name": "stderr",
     "output_type": "stream",
     "text": [
      "C:\\Users\\Amish\\AppData\\Local\\Enthought\\Canopy\\edm\\envs\\User\\lib\\site-packages\\sklearn\\linear_model\\stochastic_gradient.py:128: FutureWarning: max_iter and tol parameters have been added in <class 'sklearn.linear_model.stochastic_gradient.SGDClassifier'> in 0.19. If both are left unset, they default to max_iter=5 and tol=None. If tol is not None, max_iter defaults to max_iter=1000. From 0.21, default max_iter will be 1000, and default tol will be 1e-3.\n",
      "  \"and default tol will be 1e-3.\" % type(self), FutureWarning)\n"
     ]
    },
    {
     "data": {
      "text/plain": [
       "SGDClassifier(alpha=0.0001, average=False, class_weight=None, epsilon=0.1,\n",
       "       eta0=0.0, fit_intercept=True, l1_ratio=0.15,\n",
       "       learning_rate='optimal', loss='hinge', max_iter=None, n_iter=None,\n",
       "       n_jobs=1, penalty='l2', power_t=0.5, random_state=42, shuffle=True,\n",
       "       tol=None, verbose=0, warm_start=False)"
      ]
     },
     "execution_count": 137,
     "metadata": {},
     "output_type": "execute_result"
    }
   ],
   "source": [
    "from sklearn.linear_model import SGDClassifier\n",
    "sgd_clf = SGDClassifier(random_state=42)\n",
    "#sgd_clf.fit(train_features, train_target)\n",
    "sgd_clf.fit(X_train, y_train)"
   ]
  },
  {
   "cell_type": "code",
   "execution_count": 138,
   "metadata": {
    "collapsed": false
   },
   "outputs": [
    {
     "data": {
      "text/plain": [
       "array(['DoS Hulk', 'DoS Hulk', 'BENIGN', ..., 'BENIGN', 'BENIGN',\n",
       "       'DoS Hulk'],\n",
       "      dtype='<U16')"
      ]
     },
     "execution_count": 138,
     "metadata": {},
     "output_type": "execute_result"
    }
   ],
   "source": [
    "sgd_clf.predict(X_train)\n"
   ]
  },
  {
   "cell_type": "code",
   "execution_count": 143,
   "metadata": {
    "collapsed": false
   },
   "outputs": [
    {
     "name": "stdout",
     "output_type": "stream",
     "text": [
      "CROSS VAL SCORE: \n"
     ]
    },
    {
     "name": "stderr",
     "output_type": "stream",
     "text": [
      "C:\\Users\\Amish\\AppData\\Local\\Enthought\\Canopy\\edm\\envs\\User\\lib\\site-packages\\sklearn\\linear_model\\stochastic_gradient.py:128: FutureWarning: max_iter and tol parameters have been added in <class 'sklearn.linear_model.stochastic_gradient.SGDClassifier'> in 0.19. If both are left unset, they default to max_iter=5 and tol=None. If tol is not None, max_iter defaults to max_iter=1000. From 0.21, default max_iter will be 1000, and default tol will be 1e-3.\n",
      "  \"and default tol will be 1e-3.\" % type(self), FutureWarning)\n",
      "C:\\Users\\Amish\\AppData\\Local\\Enthought\\Canopy\\edm\\envs\\User\\lib\\site-packages\\sklearn\\linear_model\\stochastic_gradient.py:128: FutureWarning: max_iter and tol parameters have been added in <class 'sklearn.linear_model.stochastic_gradient.SGDClassifier'> in 0.19. If both are left unset, they default to max_iter=5 and tol=None. If tol is not None, max_iter defaults to max_iter=1000. From 0.21, default max_iter will be 1000, and default tol will be 1e-3.\n",
      "  \"and default tol will be 1e-3.\" % type(self), FutureWarning)\n",
      "C:\\Users\\Amish\\AppData\\Local\\Enthought\\Canopy\\edm\\envs\\User\\lib\\site-packages\\sklearn\\linear_model\\stochastic_gradient.py:128: FutureWarning: max_iter and tol parameters have been added in <class 'sklearn.linear_model.stochastic_gradient.SGDClassifier'> in 0.19. If both are left unset, they default to max_iter=5 and tol=None. If tol is not None, max_iter defaults to max_iter=1000. From 0.21, default max_iter will be 1000, and default tol will be 1e-3.\n",
      "  \"and default tol will be 1e-3.\" % type(self), FutureWarning)\n"
     ]
    },
    {
     "name": "stdout",
     "output_type": "stream",
     "text": [
      "[ 0.8644335   0.84665978  0.86215519]\n"
     ]
    },
    {
     "name": "stderr",
     "output_type": "stream",
     "text": [
      "C:\\Users\\Amish\\AppData\\Local\\Enthought\\Canopy\\edm\\envs\\User\\lib\\site-packages\\sklearn\\linear_model\\stochastic_gradient.py:128: FutureWarning: max_iter and tol parameters have been added in <class 'sklearn.linear_model.stochastic_gradient.SGDClassifier'> in 0.19. If both are left unset, they default to max_iter=5 and tol=None. If tol is not None, max_iter defaults to max_iter=1000. From 0.21, default max_iter will be 1000, and default tol will be 1e-3.\n",
      "  \"and default tol will be 1e-3.\" % type(self), FutureWarning)\n",
      "C:\\Users\\Amish\\AppData\\Local\\Enthought\\Canopy\\edm\\envs\\User\\lib\\site-packages\\sklearn\\linear_model\\stochastic_gradient.py:128: FutureWarning: max_iter and tol parameters have been added in <class 'sklearn.linear_model.stochastic_gradient.SGDClassifier'> in 0.19. If both are left unset, they default to max_iter=5 and tol=None. If tol is not None, max_iter defaults to max_iter=1000. From 0.21, default max_iter will be 1000, and default tol will be 1e-3.\n",
      "  \"and default tol will be 1e-3.\" % type(self), FutureWarning)\n",
      "C:\\Users\\Amish\\AppData\\Local\\Enthought\\Canopy\\edm\\envs\\User\\lib\\site-packages\\sklearn\\linear_model\\stochastic_gradient.py:128: FutureWarning: max_iter and tol parameters have been added in <class 'sklearn.linear_model.stochastic_gradient.SGDClassifier'> in 0.19. If both are left unset, they default to max_iter=5 and tol=None. If tol is not None, max_iter defaults to max_iter=1000. From 0.21, default max_iter will be 1000, and default tol will be 1e-3.\n",
      "  \"and default tol will be 1e-3.\" % type(self), FutureWarning)\n"
     ]
    },
    {
     "name": "stdout",
     "output_type": "stream",
     "text": [
      "CONFUSION MATRIX: \n",
      "[[291201   4064  28780    892   2773   2026]\n",
      " [  1820   5830     24     28      7      0]\n",
      " [ 29239     72 144221      5     45      0]\n",
      " [   602     48    430   2812    218      0]\n",
      " [  2546      1    166    109   1560      0]\n",
      " [     8      0      0      0      0      0]]\n",
      "Precision Score: \n",
      "0.857749452868\n",
      "Recall Score: \n",
      "0.857749452868\n",
      "f1 score: \n",
      "0.857749452868\n"
     ]
    },
    {
     "name": "stderr",
     "output_type": "stream",
     "text": [
      "C:\\Users\\Amish\\AppData\\Local\\Enthought\\Canopy\\edm\\envs\\User\\lib\\site-packages\\sklearn\\linear_model\\stochastic_gradient.py:128: FutureWarning: max_iter and tol parameters have been added in <class 'sklearn.linear_model.stochastic_gradient.SGDClassifier'> in 0.19. If both are left unset, they default to max_iter=5 and tol=None. If tol is not None, max_iter defaults to max_iter=1000. From 0.21, default max_iter will be 1000, and default tol will be 1e-3.\n",
      "  \"and default tol will be 1e-3.\" % type(self), FutureWarning)\n",
      "C:\\Users\\Amish\\AppData\\Local\\Enthought\\Canopy\\edm\\envs\\User\\lib\\site-packages\\sklearn\\linear_model\\stochastic_gradient.py:128: FutureWarning: max_iter and tol parameters have been added in <class 'sklearn.linear_model.stochastic_gradient.SGDClassifier'> in 0.19. If both are left unset, they default to max_iter=5 and tol=None. If tol is not None, max_iter defaults to max_iter=1000. From 0.21, default max_iter will be 1000, and default tol will be 1e-3.\n",
      "  \"and default tol will be 1e-3.\" % type(self), FutureWarning)\n",
      "C:\\Users\\Amish\\AppData\\Local\\Enthought\\Canopy\\edm\\envs\\User\\lib\\site-packages\\sklearn\\linear_model\\stochastic_gradient.py:128: FutureWarning: max_iter and tol parameters have been added in <class 'sklearn.linear_model.stochastic_gradient.SGDClassifier'> in 0.19. If both are left unset, they default to max_iter=5 and tol=None. If tol is not None, max_iter defaults to max_iter=1000. From 0.21, default max_iter will be 1000, and default tol will be 1e-3.\n",
      "  \"and default tol will be 1e-3.\" % type(self), FutureWarning)\n"
     ]
    }
   ],
   "source": [
    "from sklearn.model_selection import cross_val_score\n",
    "print(\"CROSS VAL SCORE: \")\n",
    "print(cross_val_score(sgd_clf, X_train, y_train,  scoring=\"accuracy\"))\n",
    "\n",
    "from sklearn.model_selection import cross_val_predict\n",
    "y_train_pred = cross_val_predict(sgd_clf, X_train, y_train, cv=3)\n",
    "\n",
    "from sklearn.metrics import confusion_matrix\n",
    "print(\"CONFUSION MATRIX: \")\n",
    "print(confusion_matrix(y_train, y_train_pred))\n",
    "\n",
    "#Micro for average of all classes.\n",
    "\n",
    "from sklearn.metrics import precision_score, recall_score\n",
    "print(\"Precision Score: \")\n",
    "print(precision_score(y_train, y_train_pred, average='micro'))\n",
    "print(\"Recall Score: \")\n",
    "print(recall_score(y_train, y_train_pred, average='micro')) \n",
    "\n",
    "from sklearn.metrics import f1_score\n",
    "print(\"f1 score: \")\n",
    "print(f1_score(y_train, y_train_pred, average='micro'))\n",
    "y_scores = cross_val_predict(sgd_clf, X_train, y_train, cv=3, method=\"decision_function\")"
   ]
  },
  {
   "cell_type": "code",
   "execution_count": 148,
   "metadata": {
    "collapsed": false
   },
   "outputs": [
    {
     "name": "stdout",
     "output_type": "stream",
     "text": [
      "[ 0.99921468  0.99937059  0.9992724 ]\n",
      "CONFUSION MATRIX: \n",
      "[[329586      3    135      8      4      0]\n",
      " [    16   7680     10      3      0      0]\n",
      " [   118     14 173450      0      0      0]\n",
      " [    17      4      0   4075     14      0]\n",
      " [    18      1      1      4   4358      0]\n",
      " [     1      0      0      0      0      7]]\n",
      "PRECISION SCORE: \n",
      "0.999285888895\n",
      "RECALL SCORE: \n",
      "0.999285888895\n",
      "F1 score: \n",
      "0.999285888895\n"
     ]
    }
   ],
   "source": [
    "from sklearn.ensemble import RandomForestClassifier\n",
    "rfc = RandomForestClassifier(random_state=42)\n",
    "rfc.fit(X_train, y_train)\n",
    "rfc.predict(X_test)\n",
    "print(cross_val_score(rfc, X_train, y_train, cv=3, scoring=\"accuracy\"))\n",
    "y_probas_forest = cross_val_predict(rfc, X_train, y_train, cv=3, method=\"predict_proba\")\n",
    "\n",
    "\n",
    "\n",
    "y_train_pred = cross_val_predict(rfc, X_train, y_train, cv=3)\n",
    "print(\"CONFUSION MATRIX: \")\n",
    "print(confusion_matrix(y_train, y_train_pred))\n",
    "print(\"PRECISION SCORE: \")\n",
    "print(precision_score(y_train, y_train_pred ,average='micro'))\n",
    "print(\"RECALL SCORE: \")\n",
    "print(recall_score(y_train, y_train_pred, average='micro')) \n",
    "print(\"F1 score: \")\n",
    "print(f1_score(y_train, y_train_pred,average='micro'))\n"
   ]
  },
  {
   "cell_type": "code",
   "execution_count": 149,
   "metadata": {
    "collapsed": false
   },
   "outputs": [
    {
     "name": "stderr",
     "output_type": "stream",
     "text": [
      "C:\\Users\\Amish\\AppData\\Local\\Enthought\\Canopy\\edm\\envs\\User\\lib\\site-packages\\sklearn\\linear_model\\stochastic_gradient.py:128: FutureWarning: max_iter and tol parameters have been added in <class 'sklearn.linear_model.stochastic_gradient.SGDClassifier'> in 0.19. If both are left unset, they default to max_iter=5 and tol=None. If tol is not None, max_iter defaults to max_iter=1000. From 0.21, default max_iter will be 1000, and default tol will be 1e-3.\n",
      "  \"and default tol will be 1e-3.\" % type(self), FutureWarning)\n"
     ]
    },
    {
     "data": {
      "text/plain": [
       "SGDClassifier(alpha=0.0001, average=False, class_weight=None, epsilon=0.1,\n",
       "       eta0=0.0, fit_intercept=True, l1_ratio=0.15,\n",
       "       learning_rate='optimal', loss='hinge', max_iter=None, n_iter=None,\n",
       "       n_jobs=1, penalty='l2', power_t=0.5, random_state=42, shuffle=True,\n",
       "       tol=None, verbose=0, warm_start=False)"
      ]
     },
     "execution_count": 149,
     "metadata": {},
     "output_type": "execute_result"
    }
   ],
   "source": [
    "from sklearn.preprocessing import StandardScaler\n",
    "StdSc= StandardScaler()\n",
    "\n",
    "X_scaled= StdSc.fit_transform(X_train)\n",
    "sgd_scaled = SGDClassifier(random_state=42)\n",
    "sgd_scaled.fit(X_scaled, y_train)"
   ]
  },
  {
   "cell_type": "code",
   "execution_count": 150,
   "metadata": {
    "collapsed": false
   },
   "outputs": [
    {
     "name": "stderr",
     "output_type": "stream",
     "text": [
      "C:\\Users\\Amish\\AppData\\Local\\Enthought\\Canopy\\edm\\envs\\User\\lib\\site-packages\\sklearn\\linear_model\\stochastic_gradient.py:128: FutureWarning: max_iter and tol parameters have been added in <class 'sklearn.linear_model.stochastic_gradient.SGDClassifier'> in 0.19. If both are left unset, they default to max_iter=5 and tol=None. If tol is not None, max_iter defaults to max_iter=1000. From 0.21, default max_iter will be 1000, and default tol will be 1e-3.\n",
      "  \"and default tol will be 1e-3.\" % type(self), FutureWarning)\n",
      "C:\\Users\\Amish\\AppData\\Local\\Enthought\\Canopy\\edm\\envs\\User\\lib\\site-packages\\sklearn\\linear_model\\stochastic_gradient.py:128: FutureWarning: max_iter and tol parameters have been added in <class 'sklearn.linear_model.stochastic_gradient.SGDClassifier'> in 0.19. If both are left unset, they default to max_iter=5 and tol=None. If tol is not None, max_iter defaults to max_iter=1000. From 0.21, default max_iter will be 1000, and default tol will be 1e-3.\n",
      "  \"and default tol will be 1e-3.\" % type(self), FutureWarning)\n",
      "C:\\Users\\Amish\\AppData\\Local\\Enthought\\Canopy\\edm\\envs\\User\\lib\\site-packages\\sklearn\\linear_model\\stochastic_gradient.py:128: FutureWarning: max_iter and tol parameters have been added in <class 'sklearn.linear_model.stochastic_gradient.SGDClassifier'> in 0.19. If both are left unset, they default to max_iter=5 and tol=None. If tol is not None, max_iter defaults to max_iter=1000. From 0.21, default max_iter will be 1000, and default tol will be 1e-3.\n",
      "  \"and default tol will be 1e-3.\" % type(self), FutureWarning)\n"
     ]
    }
   ],
   "source": [
    "y_scores = cross_val_predict(sgd_scaled, X_scaled, y_train, cv=3, method=\"decision_function\")"
   ]
  },
  {
   "cell_type": "code",
   "execution_count": 151,
   "metadata": {
    "collapsed": false
   },
   "outputs": [
    {
     "data": {
      "text/plain": [
       "array(['BENIGN', 'DoS Hulk', 'BENIGN', ..., 'BENIGN', 'BENIGN', 'DoS Hulk'],\n",
       "      dtype='<U16')"
      ]
     },
     "execution_count": 151,
     "metadata": {},
     "output_type": "execute_result"
    }
   ],
   "source": [
    "sgd_scaled.predict(X_scaled)"
   ]
  },
  {
   "cell_type": "code",
   "execution_count": 152,
   "metadata": {
    "collapsed": false
   },
   "outputs": [
    {
     "name": "stderr",
     "output_type": "stream",
     "text": [
      "C:\\Users\\Amish\\AppData\\Local\\Enthought\\Canopy\\edm\\envs\\User\\lib\\site-packages\\sklearn\\linear_model\\stochastic_gradient.py:128: FutureWarning: max_iter and tol parameters have been added in <class 'sklearn.linear_model.stochastic_gradient.SGDClassifier'> in 0.19. If both are left unset, they default to max_iter=5 and tol=None. If tol is not None, max_iter defaults to max_iter=1000. From 0.21, default max_iter will be 1000, and default tol will be 1e-3.\n",
      "  \"and default tol will be 1e-3.\" % type(self), FutureWarning)\n",
      "C:\\Users\\Amish\\AppData\\Local\\Enthought\\Canopy\\edm\\envs\\User\\lib\\site-packages\\sklearn\\linear_model\\stochastic_gradient.py:128: FutureWarning: max_iter and tol parameters have been added in <class 'sklearn.linear_model.stochastic_gradient.SGDClassifier'> in 0.19. If both are left unset, they default to max_iter=5 and tol=None. If tol is not None, max_iter defaults to max_iter=1000. From 0.21, default max_iter will be 1000, and default tol will be 1e-3.\n",
      "  \"and default tol will be 1e-3.\" % type(self), FutureWarning)\n",
      "C:\\Users\\Amish\\AppData\\Local\\Enthought\\Canopy\\edm\\envs\\User\\lib\\site-packages\\sklearn\\linear_model\\stochastic_gradient.py:128: FutureWarning: max_iter and tol parameters have been added in <class 'sklearn.linear_model.stochastic_gradient.SGDClassifier'> in 0.19. If both are left unset, they default to max_iter=5 and tol=None. If tol is not None, max_iter defaults to max_iter=1000. From 0.21, default max_iter will be 1000, and default tol will be 1e-3.\n",
      "  \"and default tol will be 1e-3.\" % type(self), FutureWarning)\n"
     ]
    },
    {
     "name": "stdout",
     "output_type": "stream",
     "text": [
      "[ 0.97856528  0.97928131  0.97688439]\n"
     ]
    },
    {
     "name": "stderr",
     "output_type": "stream",
     "text": [
      "C:\\Users\\Amish\\AppData\\Local\\Enthought\\Canopy\\edm\\envs\\User\\lib\\site-packages\\sklearn\\linear_model\\stochastic_gradient.py:128: FutureWarning: max_iter and tol parameters have been added in <class 'sklearn.linear_model.stochastic_gradient.SGDClassifier'> in 0.19. If both are left unset, they default to max_iter=5 and tol=None. If tol is not None, max_iter defaults to max_iter=1000. From 0.21, default max_iter will be 1000, and default tol will be 1e-3.\n",
      "  \"and default tol will be 1e-3.\" % type(self), FutureWarning)\n",
      "C:\\Users\\Amish\\AppData\\Local\\Enthought\\Canopy\\edm\\envs\\User\\lib\\site-packages\\sklearn\\linear_model\\stochastic_gradient.py:128: FutureWarning: max_iter and tol parameters have been added in <class 'sklearn.linear_model.stochastic_gradient.SGDClassifier'> in 0.19. If both are left unset, they default to max_iter=5 and tol=None. If tol is not None, max_iter defaults to max_iter=1000. From 0.21, default max_iter will be 1000, and default tol will be 1e-3.\n",
      "  \"and default tol will be 1e-3.\" % type(self), FutureWarning)\n",
      "C:\\Users\\Amish\\AppData\\Local\\Enthought\\Canopy\\edm\\envs\\User\\lib\\site-packages\\sklearn\\linear_model\\stochastic_gradient.py:128: FutureWarning: max_iter and tol parameters have been added in <class 'sklearn.linear_model.stochastic_gradient.SGDClassifier'> in 0.19. If both are left unset, they default to max_iter=5 and tol=None. If tol is not None, max_iter defaults to max_iter=1000. From 0.21, default max_iter will be 1000, and default tol will be 1e-3.\n",
      "  \"and default tol will be 1e-3.\" % type(self), FutureWarning)\n"
     ]
    },
    {
     "name": "stdout",
     "output_type": "stream",
     "text": [
      "[[324097    204   5011    259    165      0]\n",
      " [  1494   5999    210      4      2      0]\n",
      " [  1760    124 171698      0      0      0]\n",
      " [   790     10    211   3072     27      0]\n",
      " [   807    106      9    102   3358      0]\n",
      " [     8      0      0      0      0      0]]\n",
      "0.978243671647\n",
      "0.978243671647\n",
      "0.978243671647\n"
     ]
    },
    {
     "name": "stderr",
     "output_type": "stream",
     "text": [
      "C:\\Users\\Amish\\AppData\\Local\\Enthought\\Canopy\\edm\\envs\\User\\lib\\site-packages\\sklearn\\linear_model\\stochastic_gradient.py:128: FutureWarning: max_iter and tol parameters have been added in <class 'sklearn.linear_model.stochastic_gradient.SGDClassifier'> in 0.19. If both are left unset, they default to max_iter=5 and tol=None. If tol is not None, max_iter defaults to max_iter=1000. From 0.21, default max_iter will be 1000, and default tol will be 1e-3.\n",
      "  \"and default tol will be 1e-3.\" % type(self), FutureWarning)\n",
      "C:\\Users\\Amish\\AppData\\Local\\Enthought\\Canopy\\edm\\envs\\User\\lib\\site-packages\\sklearn\\linear_model\\stochastic_gradient.py:128: FutureWarning: max_iter and tol parameters have been added in <class 'sklearn.linear_model.stochastic_gradient.SGDClassifier'> in 0.19. If both are left unset, they default to max_iter=5 and tol=None. If tol is not None, max_iter defaults to max_iter=1000. From 0.21, default max_iter will be 1000, and default tol will be 1e-3.\n",
      "  \"and default tol will be 1e-3.\" % type(self), FutureWarning)\n",
      "C:\\Users\\Amish\\AppData\\Local\\Enthought\\Canopy\\edm\\envs\\User\\lib\\site-packages\\sklearn\\linear_model\\stochastic_gradient.py:128: FutureWarning: max_iter and tol parameters have been added in <class 'sklearn.linear_model.stochastic_gradient.SGDClassifier'> in 0.19. If both are left unset, they default to max_iter=5 and tol=None. If tol is not None, max_iter defaults to max_iter=1000. From 0.21, default max_iter will be 1000, and default tol will be 1e-3.\n",
      "  \"and default tol will be 1e-3.\" % type(self), FutureWarning)\n"
     ]
    }
   ],
   "source": [
    "print(cross_val_score(sgd_scaled, X_scaled, y_train, cv=3, scoring=\"accuracy\"))\n",
    "\n",
    "from sklearn.model_selection import cross_val_predict\n",
    "y_train_pred = cross_val_predict(sgd_scaled, X_scaled, y_train, cv=3)\n",
    "\n",
    "from sklearn.metrics import confusion_matrix\n",
    "print(confusion_matrix(y_train, y_train_pred))\n",
    "\n",
    "from sklearn.metrics import precision_score, recall_score\n",
    "print(precision_score(y_train, y_train_pred, average='micro'))\n",
    "print(recall_score(y_train, y_train_pred, average='micro')) \n",
    "\n",
    "from sklearn.metrics import f1_score\n",
    "print(f1_score(y_train, y_train_pred, average='micro'))\n",
    "y_scores = cross_val_predict(sgd_scaled, X_scaled, y_train, cv=3, method=\"decision_function\")"
   ]
  },
  {
   "cell_type": "code",
   "execution_count": 153,
   "metadata": {
    "collapsed": false
   },
   "outputs": [
    {
     "data": {
      "text/plain": [
       "0.99256823995672983"
      ]
     },
     "execution_count": 153,
     "metadata": {},
     "output_type": "execute_result"
    }
   ],
   "source": [
    "from sklearn.pipeline import Pipeline\n",
    "#from sklearn.preprocessing import StandardScaler\n",
    "from sklearn.svm import LinearSVC\n",
    "svm_clf = Pipeline([\n",
    "(\"scaler\", StandardScaler()),\n",
    "(\"linear_svc\", LinearSVC(C=1, loss=\"hinge\")),\n",
    "])\n",
    "\n",
    "svm_clf.fit(X_train, y_train)\n",
    "\n",
    "#svm_clf.predict(X_train)\n",
    "prediction = svm_clf.predict(X_train)\n",
    "svm_clf.score(X_train, y_train)"
   ]
  },
  {
   "cell_type": "code",
   "execution_count": 154,
   "metadata": {
    "collapsed": false
   },
   "outputs": [
    {
     "data": {
      "text/plain": [
       "0.99281655656672985"
      ]
     },
     "execution_count": 154,
     "metadata": {},
     "output_type": "execute_result"
    }
   ],
   "source": [
    "svm_clf.score(X_test, y_test)"
   ]
  },
  {
   "cell_type": "code",
   "execution_count": 155,
   "metadata": {
    "collapsed": true
   },
   "outputs": [],
   "source": [
    "from sklearn.neighbors import KNeighborsClassifier \n",
    "knn = KNeighborsClassifier(n_neighbors = 6).fit(X_scaled, y_train)\n"
   ]
  },
  {
   "cell_type": "code",
   "execution_count": 156,
   "metadata": {
    "collapsed": false
   },
   "outputs": [
    {
     "name": "stdout",
     "output_type": "stream",
     "text": [
      "['BENIGN' 'BENIGN' 'BENIGN' ..., 'BENIGN' 'BENIGN' 'BENIGN']\n",
      "[[98556  1105 10634     0     0     0]\n",
      " [ 1662   601   321     0     0     0]\n",
      " [19105     1 38385     0     0     0]\n",
      " [ 1233    46   110     0     0     0]\n",
      " [ 1378     3    33     0     0     0]\n",
      " [    3     0     0     0     0     0]]\n"
     ]
    }
   ],
   "source": [
    "knn_predictions = knn.predict(X_test)  \n",
    "cm = confusion_matrix(y_test, knn_predictions) \n",
    "print(knn_predictions)\n",
    "print(cm)"
   ]
  },
  {
   "cell_type": "code",
   "execution_count": 157,
   "metadata": {
    "collapsed": false
   },
   "outputs": [
    {
     "name": "stdout",
     "output_type": "stream",
     "text": [
      "0.50981082829\n",
      "[[28628  7848 65247  2792  5779     1]\n",
      " [    1  2317   145    27    94     0]\n",
      " [   85  1722 55547    24   113     0]\n",
      " [   53   161   106  1019    50     0]\n",
      " [    9   386   211    35   773     0]\n",
      " [    0     0     0     0     0     3]]\n"
     ]
    }
   ],
   "source": [
    "from sklearn.naive_bayes import GaussianNB \n",
    "gnb = GaussianNB().fit(X_train, y_train) \n",
    "gnb_predictions = gnb.predict(X_test) \n",
    "  \n",
    "# accuracy on X_test \n",
    "accuracy = gnb.score(X_test, y_test) \n",
    "print (accuracy) \n",
    "  \n",
    "# creating a confusion matrix \n",
    "cm = confusion_matrix(y_test, gnb_predictions) \n",
    "print(cm)"
   ]
  },
  {
   "cell_type": "code",
   "execution_count": null,
   "metadata": {
    "collapsed": true
   },
   "outputs": [],
   "source": []
  }
 ],
 "metadata": {
  "kernelspec": {
   "display_name": "Python 3",
   "language": "python",
   "name": "python3"
  },
  "language_info": {
   "codemirror_mode": {
    "name": "ipython",
    "version": 3
   },
   "file_extension": ".py",
   "mimetype": "text/x-python",
   "name": "python",
   "nbconvert_exporter": "python",
   "pygments_lexer": "ipython3",
   "version": "3.5.2"
  }
 },
 "nbformat": 4,
 "nbformat_minor": 2
}
